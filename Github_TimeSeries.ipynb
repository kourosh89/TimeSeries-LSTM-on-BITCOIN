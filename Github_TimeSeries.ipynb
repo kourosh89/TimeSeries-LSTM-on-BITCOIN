{
  "nbformat": 4,
  "nbformat_minor": 0,
  "metadata": {
    "colab": {
      "provenance": [],
      "authorship_tag": "ABX9TyOq56db0OuG3VcioTa5BDTS",
      "include_colab_link": true
    },
    "kernelspec": {
      "name": "python3",
      "display_name": "Python 3"
    },
    "language_info": {
      "name": "python"
    }
  },
  "cells": [
    {
      "cell_type": "markdown",
      "metadata": {
        "id": "view-in-github",
        "colab_type": "text"
      },
      "source": [
        "<a href=\"https://colab.research.google.com/github/kourosh89/TimeSeries-LSTM-on-BITCOIN/blob/main/Github_TimeSeries.ipynb\" target=\"_parent\"><img src=\"https://colab.research.google.com/assets/colab-badge.svg\" alt=\"Open In Colab\"/></a>"
      ]
    },
    {
      "cell_type": "code",
      "execution_count": null,
      "metadata": {
        "id": "ucGd1oLWmDzA"
      },
      "outputs": [],
      "source": [
        "#import libraries\n",
        "import numpy as np\n",
        "import pandas as pd\n",
        "import os, shutil\n",
        "import matplotlib.pyplot as plt\n",
        "# import plotly.express as px # to plot the time series plot\n",
        "from sklearn import metrics # for the evalution\n",
        "from sklearn.preprocessing import LabelEncoder,MinMaxScaler\n",
        "import tensorflow as tf\n",
        "from tensorflow import keras\n",
        "from tensorflow.keras.callbacks import ModelCheckpoint\n",
        "from tensorflow.keras.models import Sequential\n",
        "from tensorflow.keras.layers import LSTM, Dense , Bidirectional\n",
        "from tensorflow.keras.layers import TimeDistributed, Conv1D, Conv2D, Conv3D\n",
        "from tensorflow.keras.layers import ConvLSTM1D, ConvLSTM2D, MaxPool1D, MaxPool2D\n",
        "from tensorflow.keras.layers import MaxPool3D, Flatten, RepeatVector"
      ]
    },
    {
      "cell_type": "code",
      "source": [
        "df = pd.read_csv('/content/BTC-Daily.csv')"
      ],
      "metadata": {
        "id": "7cPCLorvmlJ2"
      },
      "execution_count": null,
      "outputs": []
    },
    {
      "cell_type": "markdown",
      "source": [
        "I Extracted data for BITCOIN regarding to 2014-11-28 to 2022-03-01\n",
        "\n",
        "\n",
        "we can use some method in Pandas to have overall overview about data"
      ],
      "metadata": {
        "id": "M5M4p8t5mxyH"
      }
    },
    {
      "cell_type": "code",
      "source": [
        "df.head()"
      ],
      "metadata": {
        "colab": {
          "base_uri": "https://localhost:8080/",
          "height": 250
        },
        "id": "XdhxDh5Sm419",
        "outputId": "bb2b81c2-8c64-46bd-ce87-f06910ac0cfe"
      },
      "execution_count": null,
      "outputs": [
        {
          "output_type": "execute_result",
          "data": {
            "text/plain": [
              "         unix                 date   symbol      open      high       low  \\\n",
              "0  1646092800  2022-03-01 00:00:00  BTC/USD  43221.71  43626.49  43185.48   \n",
              "1  1646006400  2022-02-28 00:00:00  BTC/USD  37717.10  44256.08  37468.99   \n",
              "2  1645920000  2022-02-27 00:00:00  BTC/USD  39146.66  39886.92  37015.74   \n",
              "3  1645833600  2022-02-26 00:00:00  BTC/USD  39242.64  40330.99  38600.00   \n",
              "4  1645747200  2022-02-25 00:00:00  BTC/USD  38360.93  39727.97  38027.61   \n",
              "\n",
              "      close   Volume BTC    Volume USD  \n",
              "0  43185.48    49.006289  2.116360e+06  \n",
              "1  43178.98  3160.618070  1.364723e+08  \n",
              "2  37712.68  1701.817043  6.418008e+07  \n",
              "3  39146.66   912.724087  3.573010e+07  \n",
              "4  39231.64  2202.851827  8.642149e+07  "
            ],
            "text/html": [
              "\n",
              "  <div id=\"df-2ebe3fdc-86f2-46c0-a99e-a8e67bd1442f\">\n",
              "    <div class=\"colab-df-container\">\n",
              "      <div>\n",
              "<style scoped>\n",
              "    .dataframe tbody tr th:only-of-type {\n",
              "        vertical-align: middle;\n",
              "    }\n",
              "\n",
              "    .dataframe tbody tr th {\n",
              "        vertical-align: top;\n",
              "    }\n",
              "\n",
              "    .dataframe thead th {\n",
              "        text-align: right;\n",
              "    }\n",
              "</style>\n",
              "<table border=\"1\" class=\"dataframe\">\n",
              "  <thead>\n",
              "    <tr style=\"text-align: right;\">\n",
              "      <th></th>\n",
              "      <th>unix</th>\n",
              "      <th>date</th>\n",
              "      <th>symbol</th>\n",
              "      <th>open</th>\n",
              "      <th>high</th>\n",
              "      <th>low</th>\n",
              "      <th>close</th>\n",
              "      <th>Volume BTC</th>\n",
              "      <th>Volume USD</th>\n",
              "    </tr>\n",
              "  </thead>\n",
              "  <tbody>\n",
              "    <tr>\n",
              "      <th>0</th>\n",
              "      <td>1646092800</td>\n",
              "      <td>2022-03-01 00:00:00</td>\n",
              "      <td>BTC/USD</td>\n",
              "      <td>43221.71</td>\n",
              "      <td>43626.49</td>\n",
              "      <td>43185.48</td>\n",
              "      <td>43185.48</td>\n",
              "      <td>49.006289</td>\n",
              "      <td>2.116360e+06</td>\n",
              "    </tr>\n",
              "    <tr>\n",
              "      <th>1</th>\n",
              "      <td>1646006400</td>\n",
              "      <td>2022-02-28 00:00:00</td>\n",
              "      <td>BTC/USD</td>\n",
              "      <td>37717.10</td>\n",
              "      <td>44256.08</td>\n",
              "      <td>37468.99</td>\n",
              "      <td>43178.98</td>\n",
              "      <td>3160.618070</td>\n",
              "      <td>1.364723e+08</td>\n",
              "    </tr>\n",
              "    <tr>\n",
              "      <th>2</th>\n",
              "      <td>1645920000</td>\n",
              "      <td>2022-02-27 00:00:00</td>\n",
              "      <td>BTC/USD</td>\n",
              "      <td>39146.66</td>\n",
              "      <td>39886.92</td>\n",
              "      <td>37015.74</td>\n",
              "      <td>37712.68</td>\n",
              "      <td>1701.817043</td>\n",
              "      <td>6.418008e+07</td>\n",
              "    </tr>\n",
              "    <tr>\n",
              "      <th>3</th>\n",
              "      <td>1645833600</td>\n",
              "      <td>2022-02-26 00:00:00</td>\n",
              "      <td>BTC/USD</td>\n",
              "      <td>39242.64</td>\n",
              "      <td>40330.99</td>\n",
              "      <td>38600.00</td>\n",
              "      <td>39146.66</td>\n",
              "      <td>912.724087</td>\n",
              "      <td>3.573010e+07</td>\n",
              "    </tr>\n",
              "    <tr>\n",
              "      <th>4</th>\n",
              "      <td>1645747200</td>\n",
              "      <td>2022-02-25 00:00:00</td>\n",
              "      <td>BTC/USD</td>\n",
              "      <td>38360.93</td>\n",
              "      <td>39727.97</td>\n",
              "      <td>38027.61</td>\n",
              "      <td>39231.64</td>\n",
              "      <td>2202.851827</td>\n",
              "      <td>8.642149e+07</td>\n",
              "    </tr>\n",
              "  </tbody>\n",
              "</table>\n",
              "</div>\n",
              "      <button class=\"colab-df-convert\" onclick=\"convertToInteractive('df-2ebe3fdc-86f2-46c0-a99e-a8e67bd1442f')\"\n",
              "              title=\"Convert this dataframe to an interactive table.\"\n",
              "              style=\"display:none;\">\n",
              "        \n",
              "  <svg xmlns=\"http://www.w3.org/2000/svg\" height=\"24px\"viewBox=\"0 0 24 24\"\n",
              "       width=\"24px\">\n",
              "    <path d=\"M0 0h24v24H0V0z\" fill=\"none\"/>\n",
              "    <path d=\"M18.56 5.44l.94 2.06.94-2.06 2.06-.94-2.06-.94-.94-2.06-.94 2.06-2.06.94zm-11 1L8.5 8.5l.94-2.06 2.06-.94-2.06-.94L8.5 2.5l-.94 2.06-2.06.94zm10 10l.94 2.06.94-2.06 2.06-.94-2.06-.94-.94-2.06-.94 2.06-2.06.94z\"/><path d=\"M17.41 7.96l-1.37-1.37c-.4-.4-.92-.59-1.43-.59-.52 0-1.04.2-1.43.59L10.3 9.45l-7.72 7.72c-.78.78-.78 2.05 0 2.83L4 21.41c.39.39.9.59 1.41.59.51 0 1.02-.2 1.41-.59l7.78-7.78 2.81-2.81c.8-.78.8-2.07 0-2.86zM5.41 20L4 18.59l7.72-7.72 1.47 1.35L5.41 20z\"/>\n",
              "  </svg>\n",
              "      </button>\n",
              "      \n",
              "  <style>\n",
              "    .colab-df-container {\n",
              "      display:flex;\n",
              "      flex-wrap:wrap;\n",
              "      gap: 12px;\n",
              "    }\n",
              "\n",
              "    .colab-df-convert {\n",
              "      background-color: #E8F0FE;\n",
              "      border: none;\n",
              "      border-radius: 50%;\n",
              "      cursor: pointer;\n",
              "      display: none;\n",
              "      fill: #1967D2;\n",
              "      height: 32px;\n",
              "      padding: 0 0 0 0;\n",
              "      width: 32px;\n",
              "    }\n",
              "\n",
              "    .colab-df-convert:hover {\n",
              "      background-color: #E2EBFA;\n",
              "      box-shadow: 0px 1px 2px rgba(60, 64, 67, 0.3), 0px 1px 3px 1px rgba(60, 64, 67, 0.15);\n",
              "      fill: #174EA6;\n",
              "    }\n",
              "\n",
              "    [theme=dark] .colab-df-convert {\n",
              "      background-color: #3B4455;\n",
              "      fill: #D2E3FC;\n",
              "    }\n",
              "\n",
              "    [theme=dark] .colab-df-convert:hover {\n",
              "      background-color: #434B5C;\n",
              "      box-shadow: 0px 1px 3px 1px rgba(0, 0, 0, 0.15);\n",
              "      filter: drop-shadow(0px 1px 2px rgba(0, 0, 0, 0.3));\n",
              "      fill: #FFFFFF;\n",
              "    }\n",
              "  </style>\n",
              "\n",
              "      <script>\n",
              "        const buttonEl =\n",
              "          document.querySelector('#df-2ebe3fdc-86f2-46c0-a99e-a8e67bd1442f button.colab-df-convert');\n",
              "        buttonEl.style.display =\n",
              "          google.colab.kernel.accessAllowed ? 'block' : 'none';\n",
              "\n",
              "        async function convertToInteractive(key) {\n",
              "          const element = document.querySelector('#df-2ebe3fdc-86f2-46c0-a99e-a8e67bd1442f');\n",
              "          const dataTable =\n",
              "            await google.colab.kernel.invokeFunction('convertToInteractive',\n",
              "                                                     [key], {});\n",
              "          if (!dataTable) return;\n",
              "\n",
              "          const docLinkHtml = 'Like what you see? Visit the ' +\n",
              "            '<a target=\"_blank\" href=https://colab.research.google.com/notebooks/data_table.ipynb>data table notebook</a>'\n",
              "            + ' to learn more about interactive tables.';\n",
              "          element.innerHTML = '';\n",
              "          dataTable['output_type'] = 'display_data';\n",
              "          await google.colab.output.renderOutput(dataTable, element);\n",
              "          const docLink = document.createElement('div');\n",
              "          docLink.innerHTML = docLinkHtml;\n",
              "          element.appendChild(docLink);\n",
              "        }\n",
              "      </script>\n",
              "    </div>\n",
              "  </div>\n",
              "  "
            ]
          },
          "metadata": {},
          "execution_count": 4
        }
      ]
    },
    {
      "cell_type": "code",
      "source": [
        "df = df.sort_values(['date']).reset_index().drop(['index'],axis=1)"
      ],
      "metadata": {
        "id": "LFaIDruonVuk"
      },
      "execution_count": null,
      "outputs": []
    },
    {
      "cell_type": "code",
      "source": [
        "df.head()"
      ],
      "metadata": {
        "colab": {
          "base_uri": "https://localhost:8080/",
          "height": 206
        },
        "id": "O9exxgW2psFh",
        "outputId": "72c4c89b-b9a7-4ad0-fad9-77719bb39691"
      },
      "execution_count": null,
      "outputs": [
        {
          "output_type": "execute_result",
          "data": {
            "text/plain": [
              "         unix                 date   symbol    open    high     low   close  \\\n",
              "0  1417132800  2014-11-28 00:00:00  BTC/USD  363.59  381.34  360.57  376.28   \n",
              "1  1417219200  2014-11-29 00:00:00  BTC/USD  376.42  386.60  372.25  376.72   \n",
              "2  1417305600  2014-11-30 00:00:00  BTC/USD  376.57  381.99  373.32  373.34   \n",
              "3  1417392000  2014-12-01 00:00:00  BTC/USD  376.40  382.31  373.03  378.39   \n",
              "4  1417478400  2014-12-02 00:00:00  BTC/USD  378.39  382.86  375.23  379.25   \n",
              "\n",
              "   Volume BTC  Volume USD  \n",
              "0  3220878.18     8617.15  \n",
              "1  2746157.05     7245.19  \n",
              "2  1145566.61     3046.33  \n",
              "3  2520662.37     6660.56  \n",
              "4  2593576.46     6832.53  "
            ],
            "text/html": [
              "\n",
              "  <div id=\"df-96ed5129-52b7-43d8-bcc3-7142c2f6ffb3\">\n",
              "    <div class=\"colab-df-container\">\n",
              "      <div>\n",
              "<style scoped>\n",
              "    .dataframe tbody tr th:only-of-type {\n",
              "        vertical-align: middle;\n",
              "    }\n",
              "\n",
              "    .dataframe tbody tr th {\n",
              "        vertical-align: top;\n",
              "    }\n",
              "\n",
              "    .dataframe thead th {\n",
              "        text-align: right;\n",
              "    }\n",
              "</style>\n",
              "<table border=\"1\" class=\"dataframe\">\n",
              "  <thead>\n",
              "    <tr style=\"text-align: right;\">\n",
              "      <th></th>\n",
              "      <th>unix</th>\n",
              "      <th>date</th>\n",
              "      <th>symbol</th>\n",
              "      <th>open</th>\n",
              "      <th>high</th>\n",
              "      <th>low</th>\n",
              "      <th>close</th>\n",
              "      <th>Volume BTC</th>\n",
              "      <th>Volume USD</th>\n",
              "    </tr>\n",
              "  </thead>\n",
              "  <tbody>\n",
              "    <tr>\n",
              "      <th>0</th>\n",
              "      <td>1417132800</td>\n",
              "      <td>2014-11-28 00:00:00</td>\n",
              "      <td>BTC/USD</td>\n",
              "      <td>363.59</td>\n",
              "      <td>381.34</td>\n",
              "      <td>360.57</td>\n",
              "      <td>376.28</td>\n",
              "      <td>3220878.18</td>\n",
              "      <td>8617.15</td>\n",
              "    </tr>\n",
              "    <tr>\n",
              "      <th>1</th>\n",
              "      <td>1417219200</td>\n",
              "      <td>2014-11-29 00:00:00</td>\n",
              "      <td>BTC/USD</td>\n",
              "      <td>376.42</td>\n",
              "      <td>386.60</td>\n",
              "      <td>372.25</td>\n",
              "      <td>376.72</td>\n",
              "      <td>2746157.05</td>\n",
              "      <td>7245.19</td>\n",
              "    </tr>\n",
              "    <tr>\n",
              "      <th>2</th>\n",
              "      <td>1417305600</td>\n",
              "      <td>2014-11-30 00:00:00</td>\n",
              "      <td>BTC/USD</td>\n",
              "      <td>376.57</td>\n",
              "      <td>381.99</td>\n",
              "      <td>373.32</td>\n",
              "      <td>373.34</td>\n",
              "      <td>1145566.61</td>\n",
              "      <td>3046.33</td>\n",
              "    </tr>\n",
              "    <tr>\n",
              "      <th>3</th>\n",
              "      <td>1417392000</td>\n",
              "      <td>2014-12-01 00:00:00</td>\n",
              "      <td>BTC/USD</td>\n",
              "      <td>376.40</td>\n",
              "      <td>382.31</td>\n",
              "      <td>373.03</td>\n",
              "      <td>378.39</td>\n",
              "      <td>2520662.37</td>\n",
              "      <td>6660.56</td>\n",
              "    </tr>\n",
              "    <tr>\n",
              "      <th>4</th>\n",
              "      <td>1417478400</td>\n",
              "      <td>2014-12-02 00:00:00</td>\n",
              "      <td>BTC/USD</td>\n",
              "      <td>378.39</td>\n",
              "      <td>382.86</td>\n",
              "      <td>375.23</td>\n",
              "      <td>379.25</td>\n",
              "      <td>2593576.46</td>\n",
              "      <td>6832.53</td>\n",
              "    </tr>\n",
              "  </tbody>\n",
              "</table>\n",
              "</div>\n",
              "      <button class=\"colab-df-convert\" onclick=\"convertToInteractive('df-96ed5129-52b7-43d8-bcc3-7142c2f6ffb3')\"\n",
              "              title=\"Convert this dataframe to an interactive table.\"\n",
              "              style=\"display:none;\">\n",
              "        \n",
              "  <svg xmlns=\"http://www.w3.org/2000/svg\" height=\"24px\"viewBox=\"0 0 24 24\"\n",
              "       width=\"24px\">\n",
              "    <path d=\"M0 0h24v24H0V0z\" fill=\"none\"/>\n",
              "    <path d=\"M18.56 5.44l.94 2.06.94-2.06 2.06-.94-2.06-.94-.94-2.06-.94 2.06-2.06.94zm-11 1L8.5 8.5l.94-2.06 2.06-.94-2.06-.94L8.5 2.5l-.94 2.06-2.06.94zm10 10l.94 2.06.94-2.06 2.06-.94-2.06-.94-.94-2.06-.94 2.06-2.06.94z\"/><path d=\"M17.41 7.96l-1.37-1.37c-.4-.4-.92-.59-1.43-.59-.52 0-1.04.2-1.43.59L10.3 9.45l-7.72 7.72c-.78.78-.78 2.05 0 2.83L4 21.41c.39.39.9.59 1.41.59.51 0 1.02-.2 1.41-.59l7.78-7.78 2.81-2.81c.8-.78.8-2.07 0-2.86zM5.41 20L4 18.59l7.72-7.72 1.47 1.35L5.41 20z\"/>\n",
              "  </svg>\n",
              "      </button>\n",
              "      \n",
              "  <style>\n",
              "    .colab-df-container {\n",
              "      display:flex;\n",
              "      flex-wrap:wrap;\n",
              "      gap: 12px;\n",
              "    }\n",
              "\n",
              "    .colab-df-convert {\n",
              "      background-color: #E8F0FE;\n",
              "      border: none;\n",
              "      border-radius: 50%;\n",
              "      cursor: pointer;\n",
              "      display: none;\n",
              "      fill: #1967D2;\n",
              "      height: 32px;\n",
              "      padding: 0 0 0 0;\n",
              "      width: 32px;\n",
              "    }\n",
              "\n",
              "    .colab-df-convert:hover {\n",
              "      background-color: #E2EBFA;\n",
              "      box-shadow: 0px 1px 2px rgba(60, 64, 67, 0.3), 0px 1px 3px 1px rgba(60, 64, 67, 0.15);\n",
              "      fill: #174EA6;\n",
              "    }\n",
              "\n",
              "    [theme=dark] .colab-df-convert {\n",
              "      background-color: #3B4455;\n",
              "      fill: #D2E3FC;\n",
              "    }\n",
              "\n",
              "    [theme=dark] .colab-df-convert:hover {\n",
              "      background-color: #434B5C;\n",
              "      box-shadow: 0px 1px 3px 1px rgba(0, 0, 0, 0.15);\n",
              "      filter: drop-shadow(0px 1px 2px rgba(0, 0, 0, 0.3));\n",
              "      fill: #FFFFFF;\n",
              "    }\n",
              "  </style>\n",
              "\n",
              "      <script>\n",
              "        const buttonEl =\n",
              "          document.querySelector('#df-96ed5129-52b7-43d8-bcc3-7142c2f6ffb3 button.colab-df-convert');\n",
              "        buttonEl.style.display =\n",
              "          google.colab.kernel.accessAllowed ? 'block' : 'none';\n",
              "\n",
              "        async function convertToInteractive(key) {\n",
              "          const element = document.querySelector('#df-96ed5129-52b7-43d8-bcc3-7142c2f6ffb3');\n",
              "          const dataTable =\n",
              "            await google.colab.kernel.invokeFunction('convertToInteractive',\n",
              "                                                     [key], {});\n",
              "          if (!dataTable) return;\n",
              "\n",
              "          const docLinkHtml = 'Like what you see? Visit the ' +\n",
              "            '<a target=\"_blank\" href=https://colab.research.google.com/notebooks/data_table.ipynb>data table notebook</a>'\n",
              "            + ' to learn more about interactive tables.';\n",
              "          element.innerHTML = '';\n",
              "          dataTable['output_type'] = 'display_data';\n",
              "          await google.colab.output.renderOutput(dataTable, element);\n",
              "          const docLink = document.createElement('div');\n",
              "          docLink.innerHTML = docLinkHtml;\n",
              "          element.appendChild(docLink);\n",
              "        }\n",
              "      </script>\n",
              "    </div>\n",
              "  </div>\n",
              "  "
            ]
          },
          "metadata": {},
          "execution_count": 6
        }
      ]
    },
    {
      "cell_type": "code",
      "source": [
        "df.drop(['unix','date','symbol'],axis=1,inplace=True)\n",
        "df.head(3)"
      ],
      "metadata": {
        "colab": {
          "base_uri": "https://localhost:8080/",
          "height": 143
        },
        "id": "mpQKMKBTqG1d",
        "outputId": "7e19d6a2-8f4e-43c1-fe58-290bbc380ff2"
      },
      "execution_count": null,
      "outputs": [
        {
          "output_type": "execute_result",
          "data": {
            "text/plain": [
              "     open    high     low   close  Volume BTC  Volume USD\n",
              "0  363.59  381.34  360.57  376.28  3220878.18     8617.15\n",
              "1  376.42  386.60  372.25  376.72  2746157.05     7245.19\n",
              "2  376.57  381.99  373.32  373.34  1145566.61     3046.33"
            ],
            "text/html": [
              "\n",
              "  <div id=\"df-f939a51c-9f1d-47e1-b143-4eb326d10650\">\n",
              "    <div class=\"colab-df-container\">\n",
              "      <div>\n",
              "<style scoped>\n",
              "    .dataframe tbody tr th:only-of-type {\n",
              "        vertical-align: middle;\n",
              "    }\n",
              "\n",
              "    .dataframe tbody tr th {\n",
              "        vertical-align: top;\n",
              "    }\n",
              "\n",
              "    .dataframe thead th {\n",
              "        text-align: right;\n",
              "    }\n",
              "</style>\n",
              "<table border=\"1\" class=\"dataframe\">\n",
              "  <thead>\n",
              "    <tr style=\"text-align: right;\">\n",
              "      <th></th>\n",
              "      <th>open</th>\n",
              "      <th>high</th>\n",
              "      <th>low</th>\n",
              "      <th>close</th>\n",
              "      <th>Volume BTC</th>\n",
              "      <th>Volume USD</th>\n",
              "    </tr>\n",
              "  </thead>\n",
              "  <tbody>\n",
              "    <tr>\n",
              "      <th>0</th>\n",
              "      <td>363.59</td>\n",
              "      <td>381.34</td>\n",
              "      <td>360.57</td>\n",
              "      <td>376.28</td>\n",
              "      <td>3220878.18</td>\n",
              "      <td>8617.15</td>\n",
              "    </tr>\n",
              "    <tr>\n",
              "      <th>1</th>\n",
              "      <td>376.42</td>\n",
              "      <td>386.60</td>\n",
              "      <td>372.25</td>\n",
              "      <td>376.72</td>\n",
              "      <td>2746157.05</td>\n",
              "      <td>7245.19</td>\n",
              "    </tr>\n",
              "    <tr>\n",
              "      <th>2</th>\n",
              "      <td>376.57</td>\n",
              "      <td>381.99</td>\n",
              "      <td>373.32</td>\n",
              "      <td>373.34</td>\n",
              "      <td>1145566.61</td>\n",
              "      <td>3046.33</td>\n",
              "    </tr>\n",
              "  </tbody>\n",
              "</table>\n",
              "</div>\n",
              "      <button class=\"colab-df-convert\" onclick=\"convertToInteractive('df-f939a51c-9f1d-47e1-b143-4eb326d10650')\"\n",
              "              title=\"Convert this dataframe to an interactive table.\"\n",
              "              style=\"display:none;\">\n",
              "        \n",
              "  <svg xmlns=\"http://www.w3.org/2000/svg\" height=\"24px\"viewBox=\"0 0 24 24\"\n",
              "       width=\"24px\">\n",
              "    <path d=\"M0 0h24v24H0V0z\" fill=\"none\"/>\n",
              "    <path d=\"M18.56 5.44l.94 2.06.94-2.06 2.06-.94-2.06-.94-.94-2.06-.94 2.06-2.06.94zm-11 1L8.5 8.5l.94-2.06 2.06-.94-2.06-.94L8.5 2.5l-.94 2.06-2.06.94zm10 10l.94 2.06.94-2.06 2.06-.94-2.06-.94-.94-2.06-.94 2.06-2.06.94z\"/><path d=\"M17.41 7.96l-1.37-1.37c-.4-.4-.92-.59-1.43-.59-.52 0-1.04.2-1.43.59L10.3 9.45l-7.72 7.72c-.78.78-.78 2.05 0 2.83L4 21.41c.39.39.9.59 1.41.59.51 0 1.02-.2 1.41-.59l7.78-7.78 2.81-2.81c.8-.78.8-2.07 0-2.86zM5.41 20L4 18.59l7.72-7.72 1.47 1.35L5.41 20z\"/>\n",
              "  </svg>\n",
              "      </button>\n",
              "      \n",
              "  <style>\n",
              "    .colab-df-container {\n",
              "      display:flex;\n",
              "      flex-wrap:wrap;\n",
              "      gap: 12px;\n",
              "    }\n",
              "\n",
              "    .colab-df-convert {\n",
              "      background-color: #E8F0FE;\n",
              "      border: none;\n",
              "      border-radius: 50%;\n",
              "      cursor: pointer;\n",
              "      display: none;\n",
              "      fill: #1967D2;\n",
              "      height: 32px;\n",
              "      padding: 0 0 0 0;\n",
              "      width: 32px;\n",
              "    }\n",
              "\n",
              "    .colab-df-convert:hover {\n",
              "      background-color: #E2EBFA;\n",
              "      box-shadow: 0px 1px 2px rgba(60, 64, 67, 0.3), 0px 1px 3px 1px rgba(60, 64, 67, 0.15);\n",
              "      fill: #174EA6;\n",
              "    }\n",
              "\n",
              "    [theme=dark] .colab-df-convert {\n",
              "      background-color: #3B4455;\n",
              "      fill: #D2E3FC;\n",
              "    }\n",
              "\n",
              "    [theme=dark] .colab-df-convert:hover {\n",
              "      background-color: #434B5C;\n",
              "      box-shadow: 0px 1px 3px 1px rgba(0, 0, 0, 0.15);\n",
              "      filter: drop-shadow(0px 1px 2px rgba(0, 0, 0, 0.3));\n",
              "      fill: #FFFFFF;\n",
              "    }\n",
              "  </style>\n",
              "\n",
              "      <script>\n",
              "        const buttonEl =\n",
              "          document.querySelector('#df-f939a51c-9f1d-47e1-b143-4eb326d10650 button.colab-df-convert');\n",
              "        buttonEl.style.display =\n",
              "          google.colab.kernel.accessAllowed ? 'block' : 'none';\n",
              "\n",
              "        async function convertToInteractive(key) {\n",
              "          const element = document.querySelector('#df-f939a51c-9f1d-47e1-b143-4eb326d10650');\n",
              "          const dataTable =\n",
              "            await google.colab.kernel.invokeFunction('convertToInteractive',\n",
              "                                                     [key], {});\n",
              "          if (!dataTable) return;\n",
              "\n",
              "          const docLinkHtml = 'Like what you see? Visit the ' +\n",
              "            '<a target=\"_blank\" href=https://colab.research.google.com/notebooks/data_table.ipynb>data table notebook</a>'\n",
              "            + ' to learn more about interactive tables.';\n",
              "          element.innerHTML = '';\n",
              "          dataTable['output_type'] = 'display_data';\n",
              "          await google.colab.output.renderOutput(dataTable, element);\n",
              "          const docLink = document.createElement('div');\n",
              "          docLink.innerHTML = docLinkHtml;\n",
              "          element.appendChild(docLink);\n",
              "        }\n",
              "      </script>\n",
              "    </div>\n",
              "  </div>\n",
              "  "
            ]
          },
          "metadata": {},
          "execution_count": 7
        }
      ]
    },
    {
      "cell_type": "markdown",
      "source": [
        "we need to check type of series in the dataframe. if anyone would not be float, it should be changed to float.\n",
        "\n",
        "we also need to check missing value"
      ],
      "metadata": {
        "id": "Vx-XKhbJrqRR"
      }
    },
    {
      "cell_type": "code",
      "source": [
        "df.info()"
      ],
      "metadata": {
        "colab": {
          "base_uri": "https://localhost:8080/"
        },
        "id": "kaYfNy54rh0h",
        "outputId": "d89ea417-076f-47d4-c25b-c7fe6cb23dd8"
      },
      "execution_count": null,
      "outputs": [
        {
          "output_type": "stream",
          "name": "stdout",
          "text": [
            "<class 'pandas.core.frame.DataFrame'>\n",
            "RangeIndex: 2651 entries, 0 to 2650\n",
            "Data columns (total 6 columns):\n",
            " #   Column      Non-Null Count  Dtype  \n",
            "---  ------      --------------  -----  \n",
            " 0   open        2651 non-null   float64\n",
            " 1   high        2651 non-null   float64\n",
            " 2   low         2651 non-null   float64\n",
            " 3   close       2651 non-null   float64\n",
            " 4   Volume BTC  2651 non-null   float64\n",
            " 5   Volume USD  2651 non-null   float64\n",
            "dtypes: float64(6)\n",
            "memory usage: 124.4 KB\n"
          ]
        }
      ]
    },
    {
      "cell_type": "code",
      "source": [
        "df.describe()"
      ],
      "metadata": {
        "colab": {
          "base_uri": "https://localhost:8080/",
          "height": 300
        },
        "id": "UEqYvQYYsD1r",
        "outputId": "d70a41a6-5b1b-42fb-d6c5-7cf0306f28c6"
      },
      "execution_count": null,
      "outputs": [
        {
          "output_type": "execute_result",
          "data": {
            "text/plain": [
              "               open          high           low         close    Volume BTC  \\\n",
              "count   2651.000000   2651.000000   2651.000000   2651.000000  2.651000e+03   \n",
              "mean   11693.189332  12038.562912  11296.539461  11709.326213  1.330041e+07   \n",
              "std    16272.554746  16739.237000  15718.297511  16282.908704  4.715366e+07   \n",
              "min      162.000000    212.840000    152.400000    162.000000  0.000000e+00   \n",
              "25%      654.680000    664.460000    640.050000    654.370000  5.357883e+03   \n",
              "50%     6408.950000   6540.000000   6312.000000   6407.770000  1.503310e+04   \n",
              "75%    10708.620000  10956.240000  10303.755000  10726.425000  3.435336e+06   \n",
              "max    67547.490000  69000.000000  66250.000000  67559.000000  7.723295e+08   \n",
              "\n",
              "         Volume USD  \n",
              "count  2.651000e+03  \n",
              "mean   6.099369e+07  \n",
              "std    1.072838e+08  \n",
              "min    0.000000e+00  \n",
              "25%    9.516170e+03  \n",
              "50%    2.288982e+07  \n",
              "75%    8.018383e+07  \n",
              "max    1.446125e+09  "
            ],
            "text/html": [
              "\n",
              "  <div id=\"df-cab36ef0-8c4f-4d3e-a001-dcf04c6dfc05\">\n",
              "    <div class=\"colab-df-container\">\n",
              "      <div>\n",
              "<style scoped>\n",
              "    .dataframe tbody tr th:only-of-type {\n",
              "        vertical-align: middle;\n",
              "    }\n",
              "\n",
              "    .dataframe tbody tr th {\n",
              "        vertical-align: top;\n",
              "    }\n",
              "\n",
              "    .dataframe thead th {\n",
              "        text-align: right;\n",
              "    }\n",
              "</style>\n",
              "<table border=\"1\" class=\"dataframe\">\n",
              "  <thead>\n",
              "    <tr style=\"text-align: right;\">\n",
              "      <th></th>\n",
              "      <th>open</th>\n",
              "      <th>high</th>\n",
              "      <th>low</th>\n",
              "      <th>close</th>\n",
              "      <th>Volume BTC</th>\n",
              "      <th>Volume USD</th>\n",
              "    </tr>\n",
              "  </thead>\n",
              "  <tbody>\n",
              "    <tr>\n",
              "      <th>count</th>\n",
              "      <td>2651.000000</td>\n",
              "      <td>2651.000000</td>\n",
              "      <td>2651.000000</td>\n",
              "      <td>2651.000000</td>\n",
              "      <td>2.651000e+03</td>\n",
              "      <td>2.651000e+03</td>\n",
              "    </tr>\n",
              "    <tr>\n",
              "      <th>mean</th>\n",
              "      <td>11693.189332</td>\n",
              "      <td>12038.562912</td>\n",
              "      <td>11296.539461</td>\n",
              "      <td>11709.326213</td>\n",
              "      <td>1.330041e+07</td>\n",
              "      <td>6.099369e+07</td>\n",
              "    </tr>\n",
              "    <tr>\n",
              "      <th>std</th>\n",
              "      <td>16272.554746</td>\n",
              "      <td>16739.237000</td>\n",
              "      <td>15718.297511</td>\n",
              "      <td>16282.908704</td>\n",
              "      <td>4.715366e+07</td>\n",
              "      <td>1.072838e+08</td>\n",
              "    </tr>\n",
              "    <tr>\n",
              "      <th>min</th>\n",
              "      <td>162.000000</td>\n",
              "      <td>212.840000</td>\n",
              "      <td>152.400000</td>\n",
              "      <td>162.000000</td>\n",
              "      <td>0.000000e+00</td>\n",
              "      <td>0.000000e+00</td>\n",
              "    </tr>\n",
              "    <tr>\n",
              "      <th>25%</th>\n",
              "      <td>654.680000</td>\n",
              "      <td>664.460000</td>\n",
              "      <td>640.050000</td>\n",
              "      <td>654.370000</td>\n",
              "      <td>5.357883e+03</td>\n",
              "      <td>9.516170e+03</td>\n",
              "    </tr>\n",
              "    <tr>\n",
              "      <th>50%</th>\n",
              "      <td>6408.950000</td>\n",
              "      <td>6540.000000</td>\n",
              "      <td>6312.000000</td>\n",
              "      <td>6407.770000</td>\n",
              "      <td>1.503310e+04</td>\n",
              "      <td>2.288982e+07</td>\n",
              "    </tr>\n",
              "    <tr>\n",
              "      <th>75%</th>\n",
              "      <td>10708.620000</td>\n",
              "      <td>10956.240000</td>\n",
              "      <td>10303.755000</td>\n",
              "      <td>10726.425000</td>\n",
              "      <td>3.435336e+06</td>\n",
              "      <td>8.018383e+07</td>\n",
              "    </tr>\n",
              "    <tr>\n",
              "      <th>max</th>\n",
              "      <td>67547.490000</td>\n",
              "      <td>69000.000000</td>\n",
              "      <td>66250.000000</td>\n",
              "      <td>67559.000000</td>\n",
              "      <td>7.723295e+08</td>\n",
              "      <td>1.446125e+09</td>\n",
              "    </tr>\n",
              "  </tbody>\n",
              "</table>\n",
              "</div>\n",
              "      <button class=\"colab-df-convert\" onclick=\"convertToInteractive('df-cab36ef0-8c4f-4d3e-a001-dcf04c6dfc05')\"\n",
              "              title=\"Convert this dataframe to an interactive table.\"\n",
              "              style=\"display:none;\">\n",
              "        \n",
              "  <svg xmlns=\"http://www.w3.org/2000/svg\" height=\"24px\"viewBox=\"0 0 24 24\"\n",
              "       width=\"24px\">\n",
              "    <path d=\"M0 0h24v24H0V0z\" fill=\"none\"/>\n",
              "    <path d=\"M18.56 5.44l.94 2.06.94-2.06 2.06-.94-2.06-.94-.94-2.06-.94 2.06-2.06.94zm-11 1L8.5 8.5l.94-2.06 2.06-.94-2.06-.94L8.5 2.5l-.94 2.06-2.06.94zm10 10l.94 2.06.94-2.06 2.06-.94-2.06-.94-.94-2.06-.94 2.06-2.06.94z\"/><path d=\"M17.41 7.96l-1.37-1.37c-.4-.4-.92-.59-1.43-.59-.52 0-1.04.2-1.43.59L10.3 9.45l-7.72 7.72c-.78.78-.78 2.05 0 2.83L4 21.41c.39.39.9.59 1.41.59.51 0 1.02-.2 1.41-.59l7.78-7.78 2.81-2.81c.8-.78.8-2.07 0-2.86zM5.41 20L4 18.59l7.72-7.72 1.47 1.35L5.41 20z\"/>\n",
              "  </svg>\n",
              "      </button>\n",
              "      \n",
              "  <style>\n",
              "    .colab-df-container {\n",
              "      display:flex;\n",
              "      flex-wrap:wrap;\n",
              "      gap: 12px;\n",
              "    }\n",
              "\n",
              "    .colab-df-convert {\n",
              "      background-color: #E8F0FE;\n",
              "      border: none;\n",
              "      border-radius: 50%;\n",
              "      cursor: pointer;\n",
              "      display: none;\n",
              "      fill: #1967D2;\n",
              "      height: 32px;\n",
              "      padding: 0 0 0 0;\n",
              "      width: 32px;\n",
              "    }\n",
              "\n",
              "    .colab-df-convert:hover {\n",
              "      background-color: #E2EBFA;\n",
              "      box-shadow: 0px 1px 2px rgba(60, 64, 67, 0.3), 0px 1px 3px 1px rgba(60, 64, 67, 0.15);\n",
              "      fill: #174EA6;\n",
              "    }\n",
              "\n",
              "    [theme=dark] .colab-df-convert {\n",
              "      background-color: #3B4455;\n",
              "      fill: #D2E3FC;\n",
              "    }\n",
              "\n",
              "    [theme=dark] .colab-df-convert:hover {\n",
              "      background-color: #434B5C;\n",
              "      box-shadow: 0px 1px 3px 1px rgba(0, 0, 0, 0.15);\n",
              "      filter: drop-shadow(0px 1px 2px rgba(0, 0, 0, 0.3));\n",
              "      fill: #FFFFFF;\n",
              "    }\n",
              "  </style>\n",
              "\n",
              "      <script>\n",
              "        const buttonEl =\n",
              "          document.querySelector('#df-cab36ef0-8c4f-4d3e-a001-dcf04c6dfc05 button.colab-df-convert');\n",
              "        buttonEl.style.display =\n",
              "          google.colab.kernel.accessAllowed ? 'block' : 'none';\n",
              "\n",
              "        async function convertToInteractive(key) {\n",
              "          const element = document.querySelector('#df-cab36ef0-8c4f-4d3e-a001-dcf04c6dfc05');\n",
              "          const dataTable =\n",
              "            await google.colab.kernel.invokeFunction('convertToInteractive',\n",
              "                                                     [key], {});\n",
              "          if (!dataTable) return;\n",
              "\n",
              "          const docLinkHtml = 'Like what you see? Visit the ' +\n",
              "            '<a target=\"_blank\" href=https://colab.research.google.com/notebooks/data_table.ipynb>data table notebook</a>'\n",
              "            + ' to learn more about interactive tables.';\n",
              "          element.innerHTML = '';\n",
              "          dataTable['output_type'] = 'display_data';\n",
              "          await google.colab.output.renderOutput(dataTable, element);\n",
              "          const docLink = document.createElement('div');\n",
              "          docLink.innerHTML = docLinkHtml;\n",
              "          element.appendChild(docLink);\n",
              "        }\n",
              "      </script>\n",
              "    </div>\n",
              "  </div>\n",
              "  "
            ]
          },
          "metadata": {},
          "execution_count": 9
        }
      ]
    },
    {
      "cell_type": "code",
      "source": [
        "a = {'open':'red','high':'green','low':'blue','close':'black','Volume BTC':'orange','Volume USD':'purple'}\n",
        "for i in df.columns:\n",
        "  plt.figure(figsize=(18,3))\n",
        "  plt.plot(df.index , df[i] , color = a[i] , label = i)\n",
        "  plt.legend()\n",
        "  plt.xlabel('sample number')\n",
        "  plt.ylabel('value of '+i)\n",
        "  plt.title(i)\n",
        "  plt.show()"
      ],
      "metadata": {
        "colab": {
          "base_uri": "https://localhost:8080/",
          "height": 1000
        },
        "id": "V5zPGaDUsNVf",
        "outputId": "6f8b62cc-fd9b-4006-9068-87da4453bf68"
      },
      "execution_count": null,
      "outputs": [
        {
          "output_type": "display_data",
          "data": {
            "text/plain": [
              "<Figure size 1296x216 with 1 Axes>"
            ],
            "image/png": "[encoded data removed]"
          },
          "metadata": {
            "needs_background": "light"
          }
        },
        {
          "output_type": "display_data",
          "data": {
            "text/plain": [
              "<Figure size 1296x216 with 1 Axes>"
            ],
            "image/png": "[encoded data removed]"
          },
          "metadata": {
            "needs_background": "light"
          }
        },
        {
          "output_type": "display_data",
          "data": {
            "text/plain": [
              "<Figure size 1296x216 with 1 Axes>"
            ],
            "image/png": "[encoded data removed]"
          },
          "metadata": {
            "needs_background": "light"
          }
        },
        {
          "output_type": "display_data",
          "data": {
            "text/plain": [
              "<Figure size 1296x216 with 1 Axes>"
            ],
            "image/png": "[encoded data removed]"
          },
          "metadata": {
            "needs_background": "light"
          }
        },
        {
          "output_type": "display_data",
          "data": {
            "text/plain": [
              "<Figure size 1296x216 with 1 Axes>"
            ],
            "image/png": "[encoded data removed]"
          },
          "metadata": {
            "needs_background": "light"
          }
        },
        {
          "output_type": "display_data",
          "data": {
            "text/plain": [
              "<Figure size 1296x216 with 1 Axes>"
            ],
            "image/png": "[encoded data removed]"
          },
          "metadata": {
            "needs_background": "light"
          }
        }
      ]
    },
    {
      "cell_type": "markdown",
      "source": [
        "In this part, we need to consider correlation between any pair value"
      ],
      "metadata": {
        "id": "MxisoHTj0h6e"
      }
    },
    {
      "cell_type": "code",
      "source": [
        "df.corr()"
      ],
      "metadata": {
        "colab": {
          "base_uri": "https://localhost:8080/",
          "height": 237
        },
        "id": "x4an8vV6spHF",
        "outputId": "cc805a6f-d7c7-454d-97f6-361d15e33ac4"
      },
      "execution_count": null,
      "outputs": [
        {
          "output_type": "execute_result",
          "data": {
            "text/plain": [
              "                open      high       low     close  Volume BTC  Volume USD\n",
              "open        1.000000  0.999485  0.998983  0.998798   -0.048598    0.609992\n",
              "high        0.999485  1.000000  0.998901  0.999474   -0.045371    0.617662\n",
              "low         0.998983  0.998901  1.000000  0.999319   -0.056040    0.593531\n",
              "close       0.998798  0.999474  0.999319  1.000000   -0.049489    0.608673\n",
              "Volume BTC -0.048598 -0.045371 -0.056040 -0.049489    1.000000   -0.160242\n",
              "Volume USD  0.609992  0.617662  0.593531  0.608673   -0.160242    1.000000"
            ],
            "text/html": [
              "\n",
              "  <div id=\"df-ab2eadda-2182-4f2b-a84e-c490a8b39210\">\n",
              "    <div class=\"colab-df-container\">\n",
              "      <div>\n",
              "<style scoped>\n",
              "    .dataframe tbody tr th:only-of-type {\n",
              "        vertical-align: middle;\n",
              "    }\n",
              "\n",
              "    .dataframe tbody tr th {\n",
              "        vertical-align: top;\n",
              "    }\n",
              "\n",
              "    .dataframe thead th {\n",
              "        text-align: right;\n",
              "    }\n",
              "</style>\n",
              "<table border=\"1\" class=\"dataframe\">\n",
              "  <thead>\n",
              "    <tr style=\"text-align: right;\">\n",
              "      <th></th>\n",
              "      <th>open</th>\n",
              "      <th>high</th>\n",
              "      <th>low</th>\n",
              "      <th>close</th>\n",
              "      <th>Volume BTC</th>\n",
              "      <th>Volume USD</th>\n",
              "    </tr>\n",
              "  </thead>\n",
              "  <tbody>\n",
              "    <tr>\n",
              "      <th>open</th>\n",
              "      <td>1.000000</td>\n",
              "      <td>0.999485</td>\n",
              "      <td>0.998983</td>\n",
              "      <td>0.998798</td>\n",
              "      <td>-0.048598</td>\n",
              "      <td>0.609992</td>\n",
              "    </tr>\n",
              "    <tr>\n",
              "      <th>high</th>\n",
              "      <td>0.999485</td>\n",
              "      <td>1.000000</td>\n",
              "      <td>0.998901</td>\n",
              "      <td>0.999474</td>\n",
              "      <td>-0.045371</td>\n",
              "      <td>0.617662</td>\n",
              "    </tr>\n",
              "    <tr>\n",
              "      <th>low</th>\n",
              "      <td>0.998983</td>\n",
              "      <td>0.998901</td>\n",
              "      <td>1.000000</td>\n",
              "      <td>0.999319</td>\n",
              "      <td>-0.056040</td>\n",
              "      <td>0.593531</td>\n",
              "    </tr>\n",
              "    <tr>\n",
              "      <th>close</th>\n",
              "      <td>0.998798</td>\n",
              "      <td>0.999474</td>\n",
              "      <td>0.999319</td>\n",
              "      <td>1.000000</td>\n",
              "      <td>-0.049489</td>\n",
              "      <td>0.608673</td>\n",
              "    </tr>\n",
              "    <tr>\n",
              "      <th>Volume BTC</th>\n",
              "      <td>-0.048598</td>\n",
              "      <td>-0.045371</td>\n",
              "      <td>-0.056040</td>\n",
              "      <td>-0.049489</td>\n",
              "      <td>1.000000</td>\n",
              "      <td>-0.160242</td>\n",
              "    </tr>\n",
              "    <tr>\n",
              "      <th>Volume USD</th>\n",
              "      <td>0.609992</td>\n",
              "      <td>0.617662</td>\n",
              "      <td>0.593531</td>\n",
              "      <td>0.608673</td>\n",
              "      <td>-0.160242</td>\n",
              "      <td>1.000000</td>\n",
              "    </tr>\n",
              "  </tbody>\n",
              "</table>\n",
              "</div>\n",
              "      <button class=\"colab-df-convert\" onclick=\"convertToInteractive('df-ab2eadda-2182-4f2b-a84e-c490a8b39210')\"\n",
              "              title=\"Convert this dataframe to an interactive table.\"\n",
              "              style=\"display:none;\">\n",
              "        \n",
              "  <svg xmlns=\"http://www.w3.org/2000/svg\" height=\"24px\"viewBox=\"0 0 24 24\"\n",
              "       width=\"24px\">\n",
              "    <path d=\"M0 0h24v24H0V0z\" fill=\"none\"/>\n",
              "    <path d=\"M18.56 5.44l.94 2.06.94-2.06 2.06-.94-2.06-.94-.94-2.06-.94 2.06-2.06.94zm-11 1L8.5 8.5l.94-2.06 2.06-.94-2.06-.94L8.5 2.5l-.94 2.06-2.06.94zm10 10l.94 2.06.94-2.06 2.06-.94-2.06-.94-.94-2.06-.94 2.06-2.06.94z\"/><path d=\"M17.41 7.96l-1.37-1.37c-.4-.4-.92-.59-1.43-.59-.52 0-1.04.2-1.43.59L10.3 9.45l-7.72 7.72c-.78.78-.78 2.05 0 2.83L4 21.41c.39.39.9.59 1.41.59.51 0 1.02-.2 1.41-.59l7.78-7.78 2.81-2.81c.8-.78.8-2.07 0-2.86zM5.41 20L4 18.59l7.72-7.72 1.47 1.35L5.41 20z\"/>\n",
              "  </svg>\n",
              "      </button>\n",
              "      \n",
              "  <style>\n",
              "    .colab-df-container {\n",
              "      display:flex;\n",
              "      flex-wrap:wrap;\n",
              "      gap: 12px;\n",
              "    }\n",
              "\n",
              "    .colab-df-convert {\n",
              "      background-color: #E8F0FE;\n",
              "      border: none;\n",
              "      border-radius: 50%;\n",
              "      cursor: pointer;\n",
              "      display: none;\n",
              "      fill: #1967D2;\n",
              "      height: 32px;\n",
              "      padding: 0 0 0 0;\n",
              "      width: 32px;\n",
              "    }\n",
              "\n",
              "    .colab-df-convert:hover {\n",
              "      background-color: #E2EBFA;\n",
              "      box-shadow: 0px 1px 2px rgba(60, 64, 67, 0.3), 0px 1px 3px 1px rgba(60, 64, 67, 0.15);\n",
              "      fill: #174EA6;\n",
              "    }\n",
              "\n",
              "    [theme=dark] .colab-df-convert {\n",
              "      background-color: #3B4455;\n",
              "      fill: #D2E3FC;\n",
              "    }\n",
              "\n",
              "    [theme=dark] .colab-df-convert:hover {\n",
              "      background-color: #434B5C;\n",
              "      box-shadow: 0px 1px 3px 1px rgba(0, 0, 0, 0.15);\n",
              "      filter: drop-shadow(0px 1px 2px rgba(0, 0, 0, 0.3));\n",
              "      fill: #FFFFFF;\n",
              "    }\n",
              "  </style>\n",
              "\n",
              "      <script>\n",
              "        const buttonEl =\n",
              "          document.querySelector('#df-ab2eadda-2182-4f2b-a84e-c490a8b39210 button.colab-df-convert');\n",
              "        buttonEl.style.display =\n",
              "          google.colab.kernel.accessAllowed ? 'block' : 'none';\n",
              "\n",
              "        async function convertToInteractive(key) {\n",
              "          const element = document.querySelector('#df-ab2eadda-2182-4f2b-a84e-c490a8b39210');\n",
              "          const dataTable =\n",
              "            await google.colab.kernel.invokeFunction('convertToInteractive',\n",
              "                                                     [key], {});\n",
              "          if (!dataTable) return;\n",
              "\n",
              "          const docLinkHtml = 'Like what you see? Visit the ' +\n",
              "            '<a target=\"_blank\" href=https://colab.research.google.com/notebooks/data_table.ipynb>data table notebook</a>'\n",
              "            + ' to learn more about interactive tables.';\n",
              "          element.innerHTML = '';\n",
              "          dataTable['output_type'] = 'display_data';\n",
              "          await google.colab.output.renderOutput(dataTable, element);\n",
              "          const docLink = document.createElement('div');\n",
              "          docLink.innerHTML = docLinkHtml;\n",
              "          element.appendChild(docLink);\n",
              "        }\n",
              "      </script>\n",
              "    </div>\n",
              "  </div>\n",
              "  "
            ]
          },
          "metadata": {},
          "execution_count": 11
        }
      ]
    },
    {
      "cell_type": "code",
      "source": [
        "plt.matshow(df.corr())\n",
        "plt.xticks(range(df.shape[1]) , df.columns , rotation = 90)\n",
        "plt.gca().xaxis.tick_bottom()\n",
        "plt.yticks(range(df.shape[1]) , df.columns)\n",
        "plt.colorbar()\n",
        "plt.title(\"Feature Correlation Heatmap\", fontsize=12)\n",
        "plt.show()"
      ],
      "metadata": {
        "colab": {
          "base_uri": "https://localhost:8080/",
          "height": 304
        },
        "id": "6XDkQVGJ05rl",
        "outputId": "e3559107-ea5d-4e55-e32f-dd45526fbac1"
      },
      "execution_count": null,
      "outputs": [
        {
          "output_type": "display_data",
          "data": {
            "text/plain": [
              "<Figure size 288x288 with 2 Axes>"
            ],
            "image/png": "[encoded data removed]"
          },
          "metadata": {
            "needs_background": "light"
          }
        }
      ]
    },
    {
      "cell_type": "code",
      "source": [
        "df_train , df_test = df[:2400] , df[2400:]"
      ],
      "metadata": {
        "id": "09C7qmnt1vZ8"
      },
      "execution_count": null,
      "outputs": []
    },
    {
      "cell_type": "code",
      "source": [
        "train = df_train\n",
        "test = df_test"
      ],
      "metadata": {
        "id": "drskltFnHoad"
      },
      "execution_count": null,
      "outputs": []
    },
    {
      "cell_type": "code",
      "source": [
        "train.head()"
      ],
      "metadata": {
        "colab": {
          "base_uri": "https://localhost:8080/",
          "height": 206
        },
        "id": "nx8_tYjTJYp4",
        "outputId": "65e2b2bf-5ff4-4b07-8d33-9f67079a5606"
      },
      "execution_count": null,
      "outputs": [
        {
          "output_type": "execute_result",
          "data": {
            "text/plain": [
              "     open    high     low   close  Volume BTC  Volume USD\n",
              "0  363.59  381.34  360.57  376.28  3220878.18     8617.15\n",
              "1  376.42  386.60  372.25  376.72  2746157.05     7245.19\n",
              "2  376.57  381.99  373.32  373.34  1145566.61     3046.33\n",
              "3  376.40  382.31  373.03  378.39  2520662.37     6660.56\n",
              "4  378.39  382.86  375.23  379.25  2593576.46     6832.53"
            ],
            "text/html": [
              "\n",
              "  <div id=\"df-48aad529-8fcc-4b3b-b655-105236a4f97c\">\n",
              "    <div class=\"colab-df-container\">\n",
              "      <div>\n",
              "<style scoped>\n",
              "    .dataframe tbody tr th:only-of-type {\n",
              "        vertical-align: middle;\n",
              "    }\n",
              "\n",
              "    .dataframe tbody tr th {\n",
              "        vertical-align: top;\n",
              "    }\n",
              "\n",
              "    .dataframe thead th {\n",
              "        text-align: right;\n",
              "    }\n",
              "</style>\n",
              "<table border=\"1\" class=\"dataframe\">\n",
              "  <thead>\n",
              "    <tr style=\"text-align: right;\">\n",
              "      <th></th>\n",
              "      <th>open</th>\n",
              "      <th>high</th>\n",
              "      <th>low</th>\n",
              "      <th>close</th>\n",
              "      <th>Volume BTC</th>\n",
              "      <th>Volume USD</th>\n",
              "    </tr>\n",
              "  </thead>\n",
              "  <tbody>\n",
              "    <tr>\n",
              "      <th>0</th>\n",
              "      <td>363.59</td>\n",
              "      <td>381.34</td>\n",
              "      <td>360.57</td>\n",
              "      <td>376.28</td>\n",
              "      <td>3220878.18</td>\n",
              "      <td>8617.15</td>\n",
              "    </tr>\n",
              "    <tr>\n",
              "      <th>1</th>\n",
              "      <td>376.42</td>\n",
              "      <td>386.60</td>\n",
              "      <td>372.25</td>\n",
              "      <td>376.72</td>\n",
              "      <td>2746157.05</td>\n",
              "      <td>7245.19</td>\n",
              "    </tr>\n",
              "    <tr>\n",
              "      <th>2</th>\n",
              "      <td>376.57</td>\n",
              "      <td>381.99</td>\n",
              "      <td>373.32</td>\n",
              "      <td>373.34</td>\n",
              "      <td>1145566.61</td>\n",
              "      <td>3046.33</td>\n",
              "    </tr>\n",
              "    <tr>\n",
              "      <th>3</th>\n",
              "      <td>376.40</td>\n",
              "      <td>382.31</td>\n",
              "      <td>373.03</td>\n",
              "      <td>378.39</td>\n",
              "      <td>2520662.37</td>\n",
              "      <td>6660.56</td>\n",
              "    </tr>\n",
              "    <tr>\n",
              "      <th>4</th>\n",
              "      <td>378.39</td>\n",
              "      <td>382.86</td>\n",
              "      <td>375.23</td>\n",
              "      <td>379.25</td>\n",
              "      <td>2593576.46</td>\n",
              "      <td>6832.53</td>\n",
              "    </tr>\n",
              "  </tbody>\n",
              "</table>\n",
              "</div>\n",
              "      <button class=\"colab-df-convert\" onclick=\"convertToInteractive('df-48aad529-8fcc-4b3b-b655-105236a4f97c')\"\n",
              "              title=\"Convert this dataframe to an interactive table.\"\n",
              "              style=\"display:none;\">\n",
              "        \n",
              "  <svg xmlns=\"http://www.w3.org/2000/svg\" height=\"24px\"viewBox=\"0 0 24 24\"\n",
              "       width=\"24px\">\n",
              "    <path d=\"M0 0h24v24H0V0z\" fill=\"none\"/>\n",
              "    <path d=\"M18.56 5.44l.94 2.06.94-2.06 2.06-.94-2.06-.94-.94-2.06-.94 2.06-2.06.94zm-11 1L8.5 8.5l.94-2.06 2.06-.94-2.06-.94L8.5 2.5l-.94 2.06-2.06.94zm10 10l.94 2.06.94-2.06 2.06-.94-2.06-.94-.94-2.06-.94 2.06-2.06.94z\"/><path d=\"M17.41 7.96l-1.37-1.37c-.4-.4-.92-.59-1.43-.59-.52 0-1.04.2-1.43.59L10.3 9.45l-7.72 7.72c-.78.78-.78 2.05 0 2.83L4 21.41c.39.39.9.59 1.41.59.51 0 1.02-.2 1.41-.59l7.78-7.78 2.81-2.81c.8-.78.8-2.07 0-2.86zM5.41 20L4 18.59l7.72-7.72 1.47 1.35L5.41 20z\"/>\n",
              "  </svg>\n",
              "      </button>\n",
              "      \n",
              "  <style>\n",
              "    .colab-df-container {\n",
              "      display:flex;\n",
              "      flex-wrap:wrap;\n",
              "      gap: 12px;\n",
              "    }\n",
              "\n",
              "    .colab-df-convert {\n",
              "      background-color: #E8F0FE;\n",
              "      border: none;\n",
              "      border-radius: 50%;\n",
              "      cursor: pointer;\n",
              "      display: none;\n",
              "      fill: #1967D2;\n",
              "      height: 32px;\n",
              "      padding: 0 0 0 0;\n",
              "      width: 32px;\n",
              "    }\n",
              "\n",
              "    .colab-df-convert:hover {\n",
              "      background-color: #E2EBFA;\n",
              "      box-shadow: 0px 1px 2px rgba(60, 64, 67, 0.3), 0px 1px 3px 1px rgba(60, 64, 67, 0.15);\n",
              "      fill: #174EA6;\n",
              "    }\n",
              "\n",
              "    [theme=dark] .colab-df-convert {\n",
              "      background-color: #3B4455;\n",
              "      fill: #D2E3FC;\n",
              "    }\n",
              "\n",
              "    [theme=dark] .colab-df-convert:hover {\n",
              "      background-color: #434B5C;\n",
              "      box-shadow: 0px 1px 3px 1px rgba(0, 0, 0, 0.15);\n",
              "      filter: drop-shadow(0px 1px 2px rgba(0, 0, 0, 0.3));\n",
              "      fill: #FFFFFF;\n",
              "    }\n",
              "  </style>\n",
              "\n",
              "      <script>\n",
              "        const buttonEl =\n",
              "          document.querySelector('#df-48aad529-8fcc-4b3b-b655-105236a4f97c button.colab-df-convert');\n",
              "        buttonEl.style.display =\n",
              "          google.colab.kernel.accessAllowed ? 'block' : 'none';\n",
              "\n",
              "        async function convertToInteractive(key) {\n",
              "          const element = document.querySelector('#df-48aad529-8fcc-4b3b-b655-105236a4f97c');\n",
              "          const dataTable =\n",
              "            await google.colab.kernel.invokeFunction('convertToInteractive',\n",
              "                                                     [key], {});\n",
              "          if (!dataTable) return;\n",
              "\n",
              "          const docLinkHtml = 'Like what you see? Visit the ' +\n",
              "            '<a target=\"_blank\" href=https://colab.research.google.com/notebooks/data_table.ipynb>data table notebook</a>'\n",
              "            + ' to learn more about interactive tables.';\n",
              "          element.innerHTML = '';\n",
              "          dataTable['output_type'] = 'display_data';\n",
              "          await google.colab.output.renderOutput(dataTable, element);\n",
              "          const docLink = document.createElement('div');\n",
              "          docLink.innerHTML = docLinkHtml;\n",
              "          element.appendChild(docLink);\n",
              "        }\n",
              "      </script>\n",
              "    </div>\n",
              "  </div>\n",
              "  "
            ]
          },
          "metadata": {},
          "execution_count": 16
        }
      ]
    },
    {
      "cell_type": "code",
      "source": [],
      "metadata": {
        "id": "wjDgqWBENhHK"
      },
      "execution_count": null,
      "outputs": []
    },
    {
      "cell_type": "code",
      "source": [
        "scalers={}\n",
        "for i in train.columns:\n",
        "    scaler = MinMaxScaler(feature_range=(-1,1))\n",
        "    ss = scaler.fit_transform(train[i].values.reshape(-1,1))\n",
        "    scalers['scaler_'+ i] = scaler\n",
        "    train[i]=ss\n",
        "\n",
        "for i in train.columns:\n",
        "    ss = scaler.fit_transform(test[i].values.reshape(-1,1))\n",
        "    test[i]=ss"
      ],
      "metadata": {
        "colab": {
          "base_uri": "https://localhost:8080/"
        },
        "id": "aRh4kkF32K9J",
        "outputId": "61927b9e-68b9-412b-8955-043026680df4"
      },
      "execution_count": null,
      "outputs": [
        {
          "output_type": "stream",
          "name": "stderr",
          "text": [
            "<ipython-input-17-8ddc747284c0>:6: SettingWithCopyWarning: \n",
            "A value is trying to be set on a copy of a slice from a DataFrame.\n",
            "Try using .loc[row_indexer,col_indexer] = value instead\n",
            "\n",
            "See the caveats in the documentation: https://pandas.pydata.org/pandas-docs/stable/user_guide/indexing.html#returning-a-view-versus-a-copy\n",
            "  train[i]=ss\n",
            "<ipython-input-17-8ddc747284c0>:6: SettingWithCopyWarning: \n",
            "A value is trying to be set on a copy of a slice from a DataFrame.\n",
            "Try using .loc[row_indexer,col_indexer] = value instead\n",
            "\n",
            "See the caveats in the documentation: https://pandas.pydata.org/pandas-docs/stable/user_guide/indexing.html#returning-a-view-versus-a-copy\n",
            "  train[i]=ss\n",
            "<ipython-input-17-8ddc747284c0>:6: SettingWithCopyWarning: \n",
            "A value is trying to be set on a copy of a slice from a DataFrame.\n",
            "Try using .loc[row_indexer,col_indexer] = value instead\n",
            "\n",
            "See the caveats in the documentation: https://pandas.pydata.org/pandas-docs/stable/user_guide/indexing.html#returning-a-view-versus-a-copy\n",
            "  train[i]=ss\n",
            "<ipython-input-17-8ddc747284c0>:6: SettingWithCopyWarning: \n",
            "A value is trying to be set on a copy of a slice from a DataFrame.\n",
            "Try using .loc[row_indexer,col_indexer] = value instead\n",
            "\n",
            "See the caveats in the documentation: https://pandas.pydata.org/pandas-docs/stable/user_guide/indexing.html#returning-a-view-versus-a-copy\n",
            "  train[i]=ss\n",
            "<ipython-input-17-8ddc747284c0>:6: SettingWithCopyWarning: \n",
            "A value is trying to be set on a copy of a slice from a DataFrame.\n",
            "Try using .loc[row_indexer,col_indexer] = value instead\n",
            "\n",
            "See the caveats in the documentation: https://pandas.pydata.org/pandas-docs/stable/user_guide/indexing.html#returning-a-view-versus-a-copy\n",
            "  train[i]=ss\n",
            "<ipython-input-17-8ddc747284c0>:6: SettingWithCopyWarning: \n",
            "A value is trying to be set on a copy of a slice from a DataFrame.\n",
            "Try using .loc[row_indexer,col_indexer] = value instead\n",
            "\n",
            "See the caveats in the documentation: https://pandas.pydata.org/pandas-docs/stable/user_guide/indexing.html#returning-a-view-versus-a-copy\n",
            "  train[i]=ss\n",
            "<ipython-input-17-8ddc747284c0>:10: SettingWithCopyWarning: \n",
            "A value is trying to be set on a copy of a slice from a DataFrame.\n",
            "Try using .loc[row_indexer,col_indexer] = value instead\n",
            "\n",
            "See the caveats in the documentation: https://pandas.pydata.org/pandas-docs/stable/user_guide/indexing.html#returning-a-view-versus-a-copy\n",
            "  test[i]=ss\n",
            "<ipython-input-17-8ddc747284c0>:10: SettingWithCopyWarning: \n",
            "A value is trying to be set on a copy of a slice from a DataFrame.\n",
            "Try using .loc[row_indexer,col_indexer] = value instead\n",
            "\n",
            "See the caveats in the documentation: https://pandas.pydata.org/pandas-docs/stable/user_guide/indexing.html#returning-a-view-versus-a-copy\n",
            "  test[i]=ss\n",
            "<ipython-input-17-8ddc747284c0>:10: SettingWithCopyWarning: \n",
            "A value is trying to be set on a copy of a slice from a DataFrame.\n",
            "Try using .loc[row_indexer,col_indexer] = value instead\n",
            "\n",
            "See the caveats in the documentation: https://pandas.pydata.org/pandas-docs/stable/user_guide/indexing.html#returning-a-view-versus-a-copy\n",
            "  test[i]=ss\n",
            "<ipython-input-17-8ddc747284c0>:10: SettingWithCopyWarning: \n",
            "A value is trying to be set on a copy of a slice from a DataFrame.\n",
            "Try using .loc[row_indexer,col_indexer] = value instead\n",
            "\n",
            "See the caveats in the documentation: https://pandas.pydata.org/pandas-docs/stable/user_guide/indexing.html#returning-a-view-versus-a-copy\n",
            "  test[i]=ss\n",
            "<ipython-input-17-8ddc747284c0>:10: SettingWithCopyWarning: \n",
            "A value is trying to be set on a copy of a slice from a DataFrame.\n",
            "Try using .loc[row_indexer,col_indexer] = value instead\n",
            "\n",
            "See the caveats in the documentation: https://pandas.pydata.org/pandas-docs/stable/user_guide/indexing.html#returning-a-view-versus-a-copy\n",
            "  test[i]=ss\n",
            "<ipython-input-17-8ddc747284c0>:10: SettingWithCopyWarning: \n",
            "A value is trying to be set on a copy of a slice from a DataFrame.\n",
            "Try using .loc[row_indexer,col_indexer] = value instead\n",
            "\n",
            "See the caveats in the documentation: https://pandas.pydata.org/pandas-docs/stable/user_guide/indexing.html#returning-a-view-versus-a-copy\n",
            "  test[i]=ss\n"
          ]
        }
      ]
    },
    {
      "cell_type": "code",
      "source": [
        "scalers"
      ],
      "metadata": {
        "colab": {
          "base_uri": "https://localhost:8080/"
        },
        "id": "Xsx-wW9NHq70",
        "outputId": "468797d9-6fa4-4870-cc7a-723296891d55"
      },
      "execution_count": null,
      "outputs": [
        {
          "output_type": "execute_result",
          "data": {
            "text/plain": [
              "{'scaler_open': MinMaxScaler(feature_range=(-1, 1)),\n",
              " 'scaler_high': MinMaxScaler(feature_range=(-1, 1)),\n",
              " 'scaler_low': MinMaxScaler(feature_range=(-1, 1)),\n",
              " 'scaler_close': MinMaxScaler(feature_range=(-1, 1)),\n",
              " 'scaler_Volume BTC': MinMaxScaler(feature_range=(-1, 1)),\n",
              " 'scaler_Volume USD': MinMaxScaler(feature_range=(-1, 1))}"
            ]
          },
          "metadata": {},
          "execution_count": 18
        }
      ]
    },
    {
      "cell_type": "code",
      "source": [
        "print (train.shape)\n",
        "print (test.shape)"
      ],
      "metadata": {
        "colab": {
          "base_uri": "https://localhost:8080/"
        },
        "id": "rcYfxGn6H0vF",
        "outputId": "6854db05-953e-4765-f0cf-f4e035732d97"
      },
      "execution_count": null,
      "outputs": [
        {
          "output_type": "stream",
          "name": "stdout",
          "text": [
            "(2400, 6)\n",
            "(251, 6)\n"
          ]
        }
      ]
    },
    {
      "cell_type": "code",
      "source": [
        "n_past = 60\n",
        "n_future = 7\n",
        "n_features = 6"
      ],
      "metadata": {
        "id": "3d6fQ9W0H2km"
      },
      "execution_count": null,
      "outputs": []
    },
    {
      "cell_type": "code",
      "source": [
        "def data_maker(data , n_past , n_future):\n",
        "  x = []\n",
        "  y = []\n",
        "  n_sample = len(data)-(n_past+n_future)+1\n",
        "  for i in range(n_sample):\n",
        "    x.append(data[i:i+n_past])\n",
        "    y.append(data[i+n_past:i+n_past+n_future])\n",
        "  return np.array(x) , np.array(y)"
      ],
      "metadata": {
        "id": "J9zNcQ2RIjq0"
      },
      "execution_count": null,
      "outputs": []
    },
    {
      "cell_type": "code",
      "source": [
        "x_train , y_train = data_maker(train , n_past , n_future)\n",
        "x_test , y_test = data_maker(test , n_past , n_future)"
      ],
      "metadata": {
        "id": "_RvtpBHaI3La"
      },
      "execution_count": null,
      "outputs": []
    },
    {
      "cell_type": "code",
      "source": [
        "print ('shape of x_train is {} and shape of y_train is {}'.format(x_train.shape , y_train.shape))\n",
        "print ('shape of x_test is {} and shape of y_test is {}'.format(x_test.shape , y_test.shape))"
      ],
      "metadata": {
        "colab": {
          "base_uri": "https://localhost:8080/"
        },
        "id": "HvJCtS-BI9hb",
        "outputId": "ae96c372-97b1-404e-8233-56d0024009ba"
      },
      "execution_count": null,
      "outputs": [
        {
          "output_type": "stream",
          "name": "stdout",
          "text": [
            "shape of x_train is (2334, 60, 6) and shape of y_train is (2334, 7, 6)\n",
            "shape of x_test is (185, 60, 6) and shape of y_test is (185, 7, 6)\n"
          ]
        }
      ]
    },
    {
      "cell_type": "markdown",
      "source": [
        "Designing Model:"
      ],
      "metadata": {
        "id": "beuLsJP4JGT1"
      }
    },
    {
      "cell_type": "code",
      "source": [
        "model0 = Sequential()\n",
        "model0.add(tf.keras.layers.Input(shape = (60,6)))\n",
        "model0.add(Conv1D(64,3,activation='relu'))\n",
        "model0.add(Conv1D(64,3,activation='relu'))\n",
        "model0.add(Flatten())\n",
        "model0.add(RepeatVector(7))\n",
        "model0.add(LSTM(200 , activation = 'relu', return_sequences=True))\n",
        "model0.add(TimeDistributed(Dense(100,activation='relu')))\n",
        "model0.add(TimeDistributed(Dense(6)))\n",
        "model0.summary()"
      ],
      "metadata": {
        "colab": {
          "base_uri": "https://localhost:8080/"
        },
        "id": "xk5IlQ2bJFZR",
        "outputId": "0b71554f-d0d0-47e7-b4c6-ca1fc2809c32"
      },
      "execution_count": null,
      "outputs": [
        {
          "output_type": "stream",
          "name": "stdout",
          "text": [
            "Model: \"sequential\"\n",
            "_________________________________________________________________\n",
            " Layer (type)                Output Shape              Param #   \n",
            "=================================================================\n",
            " conv1d (Conv1D)             (None, 58, 64)            1216      \n",
            "                                                                 \n",
            " conv1d_1 (Conv1D)           (None, 56, 64)            12352     \n",
            "                                                                 \n",
            " flatten (Flatten)           (None, 3584)              0         \n",
            "                                                                 \n",
            " repeat_vector (RepeatVector  (None, 7, 3584)          0         \n",
            " )                                                               \n",
            "                                                                 \n",
            " lstm (LSTM)                 (None, 7, 200)            3028000   \n",
            "                                                                 \n",
            " time_distributed (TimeDistr  (None, 7, 100)           20100     \n",
            " ibuted)                                                         \n",
            "                                                                 \n",
            " time_distributed_1 (TimeDis  (None, 7, 6)             606       \n",
            " tributed)                                                       \n",
            "                                                                 \n",
            "=================================================================\n",
            "Total params: 3,062,274\n",
            "Trainable params: 3,062,274\n",
            "Non-trainable params: 0\n",
            "_________________________________________________________________\n"
          ]
        }
      ]
    },
    {
      "cell_type": "code",
      "source": [
        "myfilepath=\"model_final_1.h5\"\n",
        "my_callbacks = [\n",
        "    tf.keras.callbacks.LearningRateScheduler(lambda x: 1e-3 * 0.90 ** x),\n",
        "    ModelCheckpoint(myfilepath, monitor='val_loss', verbose=1,save_best_only=True, mode='min', save_freq='epoch') ]\n",
        "model0.compile(optimizer=tf.keras.optimizers.Adam(), loss='mse')\n",
        "history_e2d2=model0.fit(x_train,y_train,epochs=30,validation_data=(x_test,y_test),batch_size=64,verbose=1,callbacks=my_callbacks)"
      ],
      "metadata": {
        "colab": {
          "base_uri": "https://localhost:8080/"
        },
        "id": "vmRj2CXpT0Wj",
        "outputId": "113485c8-5cdd-42a3-a82a-74f343dba247"
      },
      "execution_count": null,
      "outputs": [
        {
          "output_type": "stream",
          "name": "stdout",
          "text": [
            "Epoch 1/30\n",
            "37/37 [==============================] - ETA: 0s - loss: 0.1298\n",
            "Epoch 1: val_loss improved from inf to 0.09605, saving model to model_final_1.h5\n",
            "37/37 [==============================] - 15s 313ms/step - loss: 0.1298 - val_loss: 0.0960 - lr: 0.0010\n",
            "Epoch 2/30\n",
            "37/37 [==============================] - ETA: 0s - loss: 0.0062\n",
            "Epoch 2: val_loss improved from 0.09605 to 0.09020, saving model to model_final_1.h5\n",
            "37/37 [==============================] - 11s 301ms/step - loss: 0.0062 - val_loss: 0.0902 - lr: 9.0000e-04\n",
            "Epoch 3/30\n",
            "37/37 [==============================] - ETA: 0s - loss: 0.0051\n",
            "Epoch 3: val_loss improved from 0.09020 to 0.08338, saving model to model_final_1.h5\n",
            "37/37 [==============================] - 11s 287ms/step - loss: 0.0051 - val_loss: 0.0834 - lr: 8.1000e-04\n",
            "Epoch 4/30\n",
            "37/37 [==============================] - ETA: 0s - loss: 0.0041\n",
            "Epoch 4: val_loss improved from 0.08338 to 0.08045, saving model to model_final_1.h5\n",
            "37/37 [==============================] - 13s 361ms/step - loss: 0.0041 - val_loss: 0.0805 - lr: 7.2900e-04\n",
            "Epoch 5/30\n",
            "37/37 [==============================] - ETA: 0s - loss: 0.0034\n",
            "Epoch 5: val_loss did not improve from 0.08045\n",
            "37/37 [==============================] - 10s 260ms/step - loss: 0.0034 - val_loss: 0.0837 - lr: 6.5610e-04\n",
            "Epoch 6/30\n",
            "37/37 [==============================] - ETA: 0s - loss: 0.0031\n",
            "Epoch 6: val_loss did not improve from 0.08045\n",
            "37/37 [==============================] - 11s 293ms/step - loss: 0.0031 - val_loss: 0.0824 - lr: 5.9049e-04\n",
            "Epoch 7/30\n",
            "37/37 [==============================] - ETA: 0s - loss: 0.0029\n",
            "Epoch 7: val_loss did not improve from 0.08045\n",
            "37/37 [==============================] - 11s 293ms/step - loss: 0.0029 - val_loss: 0.0885 - lr: 5.3144e-04\n",
            "Epoch 8/30\n",
            "37/37 [==============================] - ETA: 0s - loss: 0.0028\n",
            "Epoch 8: val_loss did not improve from 0.08045\n",
            "37/37 [==============================] - 11s 310ms/step - loss: 0.0028 - val_loss: 0.0854 - lr: 4.7830e-04\n",
            "Epoch 9/30\n",
            "37/37 [==============================] - ETA: 0s - loss: 0.0027\n",
            "Epoch 9: val_loss did not improve from 0.08045\n",
            "37/37 [==============================] - 14s 384ms/step - loss: 0.0027 - val_loss: 0.0818 - lr: 4.3047e-04\n",
            "Epoch 10/30\n",
            "37/37 [==============================] - ETA: 0s - loss: 0.0025\n",
            "Epoch 10: val_loss did not improve from 0.08045\n",
            "37/37 [==============================] - 11s 303ms/step - loss: 0.0025 - val_loss: 0.0861 - lr: 3.8742e-04\n",
            "Epoch 11/30\n",
            "37/37 [==============================] - ETA: 0s - loss: 0.0024\n",
            "Epoch 11: val_loss did not improve from 0.08045\n",
            "37/37 [==============================] - 10s 260ms/step - loss: 0.0024 - val_loss: 0.0849 - lr: 3.4868e-04\n",
            "Epoch 12/30\n",
            "37/37 [==============================] - ETA: 0s - loss: 0.0024\n",
            "Epoch 12: val_loss did not improve from 0.08045\n",
            "37/37 [==============================] - 11s 293ms/step - loss: 0.0024 - val_loss: 0.0849 - lr: 3.1381e-04\n",
            "Epoch 13/30\n",
            "37/37 [==============================] - ETA: 0s - loss: 0.0023\n",
            "Epoch 13: val_loss did not improve from 0.08045\n",
            "37/37 [==============================] - 11s 295ms/step - loss: 0.0023 - val_loss: 0.0839 - lr: 2.8243e-04\n",
            "Epoch 14/30\n",
            "37/37 [==============================] - ETA: 0s - loss: 0.0022\n",
            "Epoch 14: val_loss did not improve from 0.08045\n",
            "37/37 [==============================] - 11s 296ms/step - loss: 0.0022 - val_loss: 0.0852 - lr: 2.5419e-04\n",
            "Epoch 15/30\n",
            "37/37 [==============================] - ETA: 0s - loss: 0.0022\n",
            "Epoch 15: val_loss did not improve from 0.08045\n",
            "37/37 [==============================] - 11s 299ms/step - loss: 0.0022 - val_loss: 0.0855 - lr: 2.2877e-04\n",
            "Epoch 16/30\n",
            "37/37 [==============================] - ETA: 0s - loss: 0.0022\n",
            "Epoch 16: val_loss did not improve from 0.08045\n",
            "37/37 [==============================] - 10s 270ms/step - loss: 0.0022 - val_loss: 0.0843 - lr: 2.0589e-04\n",
            "Epoch 17/30\n",
            "37/37 [==============================] - ETA: 0s - loss: 0.0021\n",
            "Epoch 17: val_loss did not improve from 0.08045\n",
            "37/37 [==============================] - 11s 302ms/step - loss: 0.0021 - val_loss: 0.0847 - lr: 1.8530e-04\n",
            "Epoch 18/30\n",
            "37/37 [==============================] - ETA: 0s - loss: 0.0021\n",
            "Epoch 18: val_loss did not improve from 0.08045\n",
            "37/37 [==============================] - 11s 297ms/step - loss: 0.0021 - val_loss: 0.0839 - lr: 1.6677e-04\n",
            "Epoch 19/30\n",
            "37/37 [==============================] - ETA: 0s - loss: 0.0020\n",
            "Epoch 19: val_loss did not improve from 0.08045\n",
            "37/37 [==============================] - 11s 293ms/step - loss: 0.0020 - val_loss: 0.0839 - lr: 1.5009e-04\n",
            "Epoch 20/30\n",
            "37/37 [==============================] - ETA: 0s - loss: 0.0020\n",
            "Epoch 20: val_loss did not improve from 0.08045\n",
            "37/37 [==============================] - 11s 294ms/step - loss: 0.0020 - val_loss: 0.0831 - lr: 1.3509e-04\n",
            "Epoch 21/30\n",
            "37/37 [==============================] - ETA: 0s - loss: 0.0020\n",
            "Epoch 21: val_loss did not improve from 0.08045\n",
            "37/37 [==============================] - 12s 333ms/step - loss: 0.0020 - val_loss: 0.0841 - lr: 1.2158e-04\n",
            "Epoch 22/30\n",
            "37/37 [==============================] - ETA: 0s - loss: 0.0020\n",
            "Epoch 22: val_loss did not improve from 0.08045\n",
            "37/37 [==============================] - 11s 291ms/step - loss: 0.0020 - val_loss: 0.0832 - lr: 1.0942e-04\n",
            "Epoch 23/30\n",
            "37/37 [==============================] - ETA: 0s - loss: 0.0019\n",
            "Epoch 23: val_loss did not improve from 0.08045\n",
            "37/37 [==============================] - 10s 262ms/step - loss: 0.0019 - val_loss: 0.0835 - lr: 9.8477e-05\n",
            "Epoch 24/30\n",
            "37/37 [==============================] - ETA: 0s - loss: 0.0019\n",
            "Epoch 24: val_loss did not improve from 0.08045\n",
            "37/37 [==============================] - 11s 292ms/step - loss: 0.0019 - val_loss: 0.0836 - lr: 8.8629e-05\n",
            "Epoch 25/30\n",
            "37/37 [==============================] - ETA: 0s - loss: 0.0019\n",
            "Epoch 25: val_loss did not improve from 0.08045\n",
            "37/37 [==============================] - 11s 293ms/step - loss: 0.0019 - val_loss: 0.0839 - lr: 7.9766e-05\n",
            "Epoch 26/30\n",
            "37/37 [==============================] - ETA: 0s - loss: 0.0019\n",
            "Epoch 26: val_loss did not improve from 0.08045\n",
            "37/37 [==============================] - 11s 296ms/step - loss: 0.0019 - val_loss: 0.0834 - lr: 7.1790e-05\n",
            "Epoch 27/30\n",
            "37/37 [==============================] - ETA: 0s - loss: 0.0019\n",
            "Epoch 27: val_loss did not improve from 0.08045\n",
            "37/37 [==============================] - 11s 296ms/step - loss: 0.0019 - val_loss: 0.0830 - lr: 6.4611e-05\n",
            "Epoch 28/30\n",
            "37/37 [==============================] - ETA: 0s - loss: 0.0019\n",
            "Epoch 28: val_loss did not improve from 0.08045\n",
            "37/37 [==============================] - 9s 256ms/step - loss: 0.0019 - val_loss: 0.0832 - lr: 5.8150e-05\n",
            "Epoch 29/30\n",
            "37/37 [==============================] - ETA: 0s - loss: 0.0019\n",
            "Epoch 29: val_loss did not improve from 0.08045\n",
            "37/37 [==============================] - 11s 290ms/step - loss: 0.0019 - val_loss: 0.0836 - lr: 5.2335e-05\n",
            "Epoch 30/30\n",
            "37/37 [==============================] - ETA: 0s - loss: 0.0019\n",
            "Epoch 30: val_loss did not improve from 0.08045\n",
            "37/37 [==============================] - 11s 298ms/step - loss: 0.0019 - val_loss: 0.0832 - lr: 4.7101e-05\n"
          ]
        }
      ]
    },
    {
      "cell_type": "code",
      "source": [
        "print(x_train.shape)\n",
        "print(x_test.shape)"
      ],
      "metadata": {
        "colab": {
          "base_uri": "https://localhost:8080/"
        },
        "id": "xoXL-CabWycT",
        "outputId": "51a92945-d34c-4557-9904-8384f04397dc"
      },
      "execution_count": null,
      "outputs": [
        {
          "output_type": "stream",
          "name": "stdout",
          "text": [
            "(2334, 60, 6)\n",
            "(185, 60, 6)\n"
          ]
        }
      ]
    },
    {
      "cell_type": "code",
      "source": [
        "prediction_train = model0.predict(x_train)\n",
        "prediction_test = model0.predict(x_test)"
      ],
      "metadata": {
        "colab": {
          "base_uri": "https://localhost:8080/"
        },
        "id": "Yw3N_LFQWFGv",
        "outputId": "fd9007b1-d803-4ee0-a4ac-e71b5d358299"
      },
      "execution_count": null,
      "outputs": [
        {
          "output_type": "stream",
          "name": "stdout",
          "text": [
            "73/73 [==============================] - 5s 58ms/step\n",
            "6/6 [==============================] - 0s 45ms/step\n"
          ]
        }
      ]
    },
    {
      "cell_type": "code",
      "source": [
        "prediction_test[0]"
      ],
      "metadata": {
        "colab": {
          "base_uri": "https://localhost:8080/"
        },
        "id": "EVmeTJbPWxtO",
        "outputId": "287ccb8c-8d9f-48c4-9866-304464b3ae20"
      },
      "execution_count": null,
      "outputs": [
        {
          "output_type": "execute_result",
          "data": {
            "text/plain": [
              "array([[-0.2951012 , -0.27113092, -0.29982284, -0.32222337, -0.5069975 ,\n",
              "        -0.5286126 ],\n",
              "       [-0.28391895, -0.22390562, -0.24592951, -0.32330585, -0.5420613 ,\n",
              "        -0.58907473],\n",
              "       [-0.25364628, -0.1802051 , -0.19291173, -0.29614577, -0.54458195,\n",
              "        -0.6019281 ],\n",
              "       [-0.2243115 , -0.16186063, -0.1802082 , -0.27249104, -0.5337507 ,\n",
              "        -0.5916134 ],\n",
              "       [-0.20127396, -0.15540154, -0.17637686, -0.26044106, -0.5204191 ,\n",
              "        -0.58573854],\n",
              "       [-0.20288084, -0.16015767, -0.1747578 , -0.26258698, -0.527864  ,\n",
              "        -0.5849159 ],\n",
              "       [-0.2098553 , -0.15955405, -0.17659895, -0.26864475, -0.53748876,\n",
              "        -0.5846944 ]], dtype=float32)"
            ]
          },
          "metadata": {},
          "execution_count": 29
        }
      ]
    },
    {
      "cell_type": "code",
      "source": [
        "print(y_train.shape)\n",
        "print(y_test.shape)\n",
        "print(prediction_train.shape)\n",
        "print(prediction_test.shape)"
      ],
      "metadata": {
        "colab": {
          "base_uri": "https://localhost:8080/"
        },
        "id": "xph3RCJFYuuT",
        "outputId": "e8fd57bf-f9ec-44e6-fd38-1d3753e456c0"
      },
      "execution_count": null,
      "outputs": [
        {
          "output_type": "stream",
          "name": "stdout",
          "text": [
            "(2334, 7, 6)\n",
            "(185, 7, 6)\n",
            "(2334, 7, 6)\n",
            "(185, 7, 6)\n"
          ]
        }
      ]
    },
    {
      "cell_type": "code",
      "source": [
        "scalers"
      ],
      "metadata": {
        "colab": {
          "base_uri": "https://localhost:8080/"
        },
        "id": "QmTZVKlqMbGK",
        "outputId": "d82ede8f-d32f-4d71-f908-0e41e3d036ea"
      },
      "execution_count": null,
      "outputs": [
        {
          "output_type": "execute_result",
          "data": {
            "text/plain": [
              "{'scaler_open': MinMaxScaler(feature_range=(-1, 1)),\n",
              " 'scaler_high': MinMaxScaler(feature_range=(-1, 1)),\n",
              " 'scaler_low': MinMaxScaler(feature_range=(-1, 1)),\n",
              " 'scaler_close': MinMaxScaler(feature_range=(-1, 1)),\n",
              " 'scaler_Volume BTC': MinMaxScaler(feature_range=(-1, 1)),\n",
              " 'scaler_Volume USD': MinMaxScaler(feature_range=(-1, 1))}"
            ]
          },
          "metadata": {},
          "execution_count": 31
        }
      ]
    },
    {
      "cell_type": "code",
      "source": [
        "for index,i in enumerate(df_train.columns):\n",
        "    scaler = scalers['scaler_'+i]\n",
        "    prediction_train[:,:,index]=scaler.inverse_transform(prediction_train[:,:,index])\n",
        "    prediction_test[:,:,index]=scaler.inverse_transform(prediction_test[:,:,index])\n",
        "    y_train[:,:,index]=scaler.inverse_transform(y_train[:,:,index])\n",
        "    y_test[:,:,index]=scaler.inverse_transform(y_test[:,:,index])"
      ],
      "metadata": {
        "id": "fgtE7_2HXuWZ"
      },
      "execution_count": null,
      "outputs": []
    },
    {
      "cell_type": "code",
      "source": [
        "y_train[3]"
      ],
      "metadata": {
        "colab": {
          "base_uri": "https://localhost:8080/"
        },
        "id": "QNdWCEXcmojM",
        "outputId": "dfa16852-a696-4502-8694-59e5f7b2fac1"
      },
      "execution_count": null,
      "outputs": [
        {
          "output_type": "execute_result",
          "data": {
            "text/plain": [
              "array([[2.34750000e+02, 2.44980000e+02, 2.27260000e+02, 2.32600000e+02,\n",
              "        4.65356437e+06, 2.12310051e+06],\n",
              "       [2.32600000e+02, 2.34800000e+02, 2.15750000e+02, 2.17980000e+02,\n",
              "        4.49452982e+06, 2.12305772e+06],\n",
              "       [2.17980000e+02, 2.20810000e+02, 2.08480000e+02, 2.14800000e+02,\n",
              "        1.33658685e+06, 2.11846357e+06],\n",
              "       [2.14800000e+02, 2.41980000e+02, 2.14800000e+02, 2.37970000e+02,\n",
              "        1.49477857e+06, 2.11854329e+06],\n",
              "       [2.37970000e+02, 2.44390000e+02, 2.23790000e+02, 2.27350000e+02,\n",
              "        4.17819928e+06, 2.12239510e+06],\n",
              "       [2.27350000e+02, 2.31000000e+02, 2.20020000e+02, 2.27000000e+02,\n",
              "        3.22039110e+06, 2.12122477e+06],\n",
              "       [2.27000000e+02, 2.28940000e+02, 2.13640000e+02, 2.17000000e+02,\n",
              "        9.53936470e+05, 2.11782635e+06]])"
            ]
          },
          "metadata": {},
          "execution_count": 40
        }
      ]
    },
    {
      "cell_type": "code",
      "source": [
        "# y_test=scaler.inverse_transform(y_test)\n",
        "# prediction_test=scaler.inverse_transform(prediction_test)"
      ],
      "metadata": {
        "id": "jIM0r7UemUoV"
      },
      "execution_count": null,
      "outputs": []
    },
    {
      "cell_type": "code",
      "source": [
        "prediction_test[2]"
      ],
      "metadata": {
        "id": "WU4Im22nXOEw",
        "colab": {
          "base_uri": "https://localhost:8080/"
        },
        "outputId": "2353bc9e-2703-43ba-acf7-07fe4c52aadd"
      },
      "execution_count": null,
      "outputs": [
        {
          "output_type": "execute_result",
          "data": {
            "text/plain": [
              "array([[2.47403691e+04, 2.52537695e+04, 2.34547891e+04, 2.36064492e+04,\n",
              "        1.98813488e+08, 1.21829648e+08],\n",
              "       [2.55835527e+04, 2.71173105e+04, 2.56158320e+04, 2.39079883e+04,\n",
              "        1.88181312e+08, 1.06886184e+08],\n",
              "       [2.67314453e+04, 2.85419043e+04, 2.74767246e+04, 2.49658750e+04,\n",
              "        1.91048592e+08, 1.04537776e+08],\n",
              "       [2.77851641e+04, 2.90573945e+04, 2.79925723e+04, 2.56958691e+04,\n",
              "        1.96564368e+08, 1.07583624e+08],\n",
              "       [2.83408301e+04, 2.97083340e+04, 2.84632832e+04, 2.61409102e+04,\n",
              "        2.04172016e+08, 1.12337208e+08],\n",
              "       [2.84737930e+04, 2.99365938e+04, 2.86735430e+04, 2.61028359e+04,\n",
              "        2.05185968e+08, 1.13534328e+08],\n",
              "       [2.83159160e+04, 3.00025332e+04, 2.86468574e+04, 2.58722676e+04,\n",
              "        2.02900720e+08, 1.13744544e+08]], dtype=float32)"
            ]
          },
          "metadata": {},
          "execution_count": 41
        }
      ]
    }
  ]
}